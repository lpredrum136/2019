{
 "cells": [
  {
   "cell_type": "markdown",
   "metadata": {},
   "source": [
    "# Exercise 2: Data Preparation\n",
    "\n",
    "---\n",
    "**Written by Hendi Lie (h2.lie@qut.edu.au) and Richi Nayak (r.nayak@qut.edu.au). All rights reserved.**\n",
    "\n",
    "Welcome to the second practical exercise for IFN645. Each exercise sheet contains a number of theoretical and programming exercises, designed to strengthen both conceptual and practical understanding of data mining processes in this unit.\n",
    "\n",
    "To answer conceptual questions, write the answer to each question on a paper/note with your reasoning. For programming exercises, open your iPython console/Jupyter notebook and use Python commands/libraries introduced in each practical to answer the questions. In many cases, you will need to write code to support your conceptual answers."
   ]
  },
  {
   "cell_type": "markdown",
   "metadata": {},
   "source": [
    "## 0. Prequisite\n",
    "\n",
    "Perform the following steps before trying the exercises:\n",
    "1. Import pandas as \"pd\" and load the adult dataset into \"df\".\n",
    "2. Print dataset information to refresh your memory."
   ]
  },
  {
   "cell_type": "markdown",
   "metadata": {},
   "source": [
    "## 1. Exploring data\n",
    "\n",
    "Perform following operations and answer the following questions:\n",
    "1. Describe the key statistics of \"hours-per-week\" column. What is the mean and median (50% quantile) value of this column?\n",
    "2. Bin the \"fnlwgt\" column into 10 bins. How many entries are in each bin?\n",
    "3. How many unique values are in \"education\" column? What is the number of occurences for each of these unique values?\n",
    "4. Assume **Salary** is a binary variable of whether a person makes over 50K a year  and **workclass** is a categorical variable representing type of the work (Private/Federal-gov/Local-gov). What is the correlation between work type and salary over 50K a year in this dataset? *Hint: use groupby.*"
   ]
  },
  {
   "cell_type": "markdown",
   "metadata": {},
   "source": [
    "## 2. Plotting\n",
    "\n",
    "Perform the following operations using `matplotlib.pyplot` and `seaborn`. Be mindful of each column type.\n",
    "1. Create a distribution plot for \"age\" column.\n",
    "2. Create a distribution plot for \"workclass\" column.\n",
    "3. Create a distribution plot for \"fnlwgt\", grouped by the workclass."
   ]
  },
  {
   "cell_type": "markdown",
   "metadata": {},
   "source": [
    "## 3. Correcting errors in data\n",
    "\n",
    "Perform the following operations and answer the following questions:\n",
    "1. By performing data exploration, grouping and plotting, what problems have you revealed with the dataset?\n",
    "2. Do you think **native-country** column is useful for the predictive model? Why?\n",
    "3. Impute missing values in **race** variable. What imputation method will you use, and why?\n",
    "4. Perform one hot encoding for **category** columns.\n",
    "5. What columns do you think is not required here? Drop them.\n",
    "6. What data preparation process can be performed for `fnlwgt` and `native-country`?"
   ]
  },
  {
   "cell_type": "markdown",
   "metadata": {},
   "source": [
    "# Answer\n",
    "\n",
    "When you are finished with all exercise questions, the sample answers are available in the following Github repository. Remember, please try the exercises first before viewing the answers.\n",
    "\n",
    "https://github.com/IFN645/2019/IFN645_answers"
   ]
  }
 ],
 "metadata": {
  "anaconda-cloud": {},
  "kernelspec": {
   "display_name": "Python [default]",
   "language": "python",
   "name": "python3"
  },
  "language_info": {
   "codemirror_mode": {
    "name": "ipython",
    "version": 3
   },
   "file_extension": ".py",
   "mimetype": "text/x-python",
   "name": "python",
   "nbconvert_exporter": "python",
   "pygments_lexer": "ipython3",
   "version": "3.5.5"
  }
 },
 "nbformat": 4,
 "nbformat_minor": 2
}
