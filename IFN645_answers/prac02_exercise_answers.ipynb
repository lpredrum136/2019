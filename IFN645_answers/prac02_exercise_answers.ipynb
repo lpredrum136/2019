{
 "cells": [
  {
   "cell_type": "markdown",
   "metadata": {},
   "source": [
    "# Exercise 2: Data Preparation\n",
    "\n",
    "---\n",
    "**Written by Hendi Lie (h2.lie@qut.edu.au) and Richi Nayak (r.nayak@qut.edu.au). All rights reserved.**\n",
    "\n",
    "Welcome to the second practical exercise for IFN645. Each exercise sheet contains a number of theoretical and programming exercises, designed to strengthen both conceptual and practical understanding of data mining processes in this unit.\n",
    "\n",
    "To answer conceptual questions, write the answer to each question on a paper/note with your reasoning. For programming exercises, open your iPython console/Jupyter notebook and use Python commands/libraries introduced in each practical to answer the questions. In many cases, you will need to write code to support your conceptual answers."
   ]
  },
  {
   "cell_type": "markdown",
   "metadata": {},
   "source": [
    "## 0. Prequisite\n",
    "\n",
    "Perform the following steps before trying the exercises:\n",
    "1. Import pandas as \"pd\" and load the house price dataset into \"df\".\n",
    "2. Print dataset information to refresh your memory."
   ]
  },
  {
   "cell_type": "code",
   "execution_count": 1,
   "metadata": {
    "collapsed": true
   },
   "outputs": [],
   "source": [
    "import pandas as pd\n",
    "\n",
    "df = pd.read_csv('datasets/adult.csv', index_col=0)"
   ]
  },
  {
   "cell_type": "code",
   "execution_count": 2,
   "metadata": {
    "collapsed": false
   },
   "outputs": [
    {
     "name": "stdout",
     "output_type": "stream",
     "text": [
      "<class 'pandas.core.frame.DataFrame'>\n",
      "Int64Index: 48842 entries, 1 to 48842\n",
      "Data columns (total 15 columns):\n",
      "age               48842 non-null int64\n",
      "workclass         48837 non-null object\n",
      "fnlwgt            48692 non-null float64\n",
      "education         48837 non-null object\n",
      "education-num     48837 non-null float64\n",
      "marital-status    48837 non-null object\n",
      "occupation        48823 non-null object\n",
      "relationship      48837 non-null object\n",
      "race              48753 non-null object\n",
      "sex               48837 non-null object\n",
      "capital-gain      48837 non-null float64\n",
      "capital-loss      48837 non-null float64\n",
      "hours-per-week    48837 non-null float64\n",
      "native-country    48837 non-null object\n",
      "Salary            48842 non-null object\n",
      "dtypes: float64(5), int64(1), object(9)\n",
      "memory usage: 6.0+ MB\n"
     ]
    }
   ],
   "source": [
    "df.info()"
   ]
  },
  {
   "cell_type": "markdown",
   "metadata": {},
   "source": [
    "## 1. Exploring data\n",
    "\n",
    "Perform following operations and answer the following questions:\n",
    "1. Describe the key statistics of \"hours-per-week\" column. What is the mean and median (50% quantile) value of this column?\n",
    "2. Bin the \"fnlwgt\" column into 10 bins. How many entries are in each bin?\n",
    "3. How many unique values are in \"education\" column? What is the number of occurences for each of these unique values?\n",
    "4. Assume **Salary** is a binary variable of whether a person makes over 50K a year and **workclass** is a categorical variable representing type of the work (Private/Federal-gov/Local-gov). What is the correlation between work type and salary over 50K a year in this dataset? *Hint: use groupby.*"
   ]
  },
  {
   "cell_type": "code",
   "execution_count": 3,
   "metadata": {
    "collapsed": false
   },
   "outputs": [
    {
     "data": {
      "text/plain": [
       "count    48837.000000\n",
       "mean        40.422016\n",
       "std         12.391761\n",
       "min          1.000000\n",
       "25%         40.000000\n",
       "50%         40.000000\n",
       "75%         45.000000\n",
       "max         99.000000\n",
       "Name: hours-per-week, dtype: float64"
      ]
     },
     "execution_count": 3,
     "metadata": {},
     "output_type": "execute_result"
    }
   ],
   "source": [
    "# 1. key statistics of rooms\n",
    "df['hours-per-week'].describe()"
   ]
  },
  {
   "cell_type": "code",
   "execution_count": 5,
   "metadata": {
    "collapsed": false
   },
   "outputs": [
    {
     "data": {
      "text/plain": [
       "(160096.5, 307908.0]      22710\n",
       "(10806.884, 160096.5]     19883\n",
       "(307908.0, 455719.5]       5212\n",
       "(455719.5, 603531.0]        673\n",
       "(603531.0, 751342.5]        151\n",
       "(751342.5, 899154.0]         35\n",
       "(899154.0, 1046965.5]        14\n",
       "(1046965.5, 1194777.0]        7\n",
       "(1342588.5, 1490400.0]        4\n",
       "(1194777.0, 1342588.5]        3\n",
       "Name: fnlwgt, dtype: int64"
      ]
     },
     "execution_count": 5,
     "metadata": {},
     "output_type": "execute_result"
    }
   ],
   "source": [
    "# 2. number of entries in each bin, derived from \"fnlwgt\" column\n",
    "df['fnlwgt'].value_counts(bins=10)"
   ]
  },
  {
   "cell_type": "code",
   "execution_count": 6,
   "metadata": {
    "collapsed": false
   },
   "outputs": [
    {
     "data": {
      "text/plain": [
       " HS-grad         15782\n",
       " Some-college    10878\n",
       " Bachelors        8023\n",
       " Masters          2657\n",
       " Assoc-voc        2061\n",
       " 11th             1812\n",
       " Assoc-acdm       1601\n",
       " 10th             1389\n",
       " 7th-8th           954\n",
       " Prof-school       834\n",
       " 9th               756\n",
       " 12th              657\n",
       " Doctorate         594\n",
       " 5th-6th           509\n",
       " 1st-4th           247\n",
       " Preschool          83\n",
       "Name: education, dtype: int64"
      ]
     },
     "execution_count": 6,
     "metadata": {},
     "output_type": "execute_result"
    }
   ],
   "source": [
    "# 3. How many unique values in education and number of occurences for each of these values\n",
    "df['education'].value_counts()"
   ]
  },
  {
   "cell_type": "code",
   "execution_count": 7,
   "metadata": {
    "collapsed": false
   },
   "outputs": [
    {
     "data": {
      "text/plain": [
       "workclass          Salary\n",
       " ?                  <=50K     2534\n",
       "                    >50K       265\n",
       " Federal-gov        <=50K      871\n",
       "                    >50K       561\n",
       " Local-gov          <=50K     2209\n",
       "                    >50K       927\n",
       " Never-worked       <=50K       10\n",
       " Private            <=50K    26515\n",
       "                    >50K      7387\n",
       " Self-emp-inc       >50K       938\n",
       "                    <=50K      757\n",
       " Self-emp-not-inc   <=50K     2784\n",
       "                    >50K      1077\n",
       " State-gov          <=50K     1451\n",
       "                    >50K       530\n",
       " Without-pay        <=50K       19\n",
       "                    >50K         2\n",
       "Name: Salary, dtype: int64"
      ]
     },
     "execution_count": 7,
     "metadata": {},
     "output_type": "execute_result"
    }
   ],
   "source": [
    "# 4. Correlation between workclass and Salary\n",
    "df.groupby(['workclass'])['Salary'].value_counts()"
   ]
  },
  {
   "cell_type": "markdown",
   "metadata": {},
   "source": [
    "## 2. Plotting\n",
    "\n",
    "Perform the following operations using `matplotlib.pyplot` and `seaborn`. Be mindful of each column type.\n",
    "1. Create a distribution plot for \"age\" column.\n",
    "2. Create a distribution plot for \"workclass\" column.\n",
    "3. Create a distribution plot for \"fnlwgt\", grouped by the workclass."
   ]
  },
  {
   "cell_type": "code",
   "execution_count": 8,
   "metadata": {
    "collapsed": true
   },
   "outputs": [],
   "source": [
    "import matplotlib.pyplot as plt\n",
    "import seaborn as sns"
   ]
  },
  {
   "cell_type": "code",
   "execution_count": 9,
   "metadata": {
    "collapsed": false
   },
   "outputs": [
    {
     "name": "stderr",
     "output_type": "stream",
     "text": [
      "C:\\Users\\n9604014\\AppData\\Local\\Continuum\\Anaconda3\\lib\\site-packages\\scipy\\stats\\stats.py:1713: FutureWarning: Using a non-tuple sequence for multidimensional indexing is deprecated; use `arr[tuple(seq)]` instead of `arr[seq]`. In the future this will be interpreted as an array index, `arr[np.array(seq)]`, which will result either in an error or a different result.\n",
      "  return np.add.reduce(sorted[indexer] * weights, axis=axis) / sumval\n",
      "C:\\Users\\n9604014\\AppData\\Local\\Continuum\\Anaconda3\\lib\\site-packages\\matplotlib\\axes\\_axes.py:6462: UserWarning: The 'normed' kwarg is deprecated, and has been replaced by the 'density' kwarg.\n",
      "  warnings.warn(\"The 'normed' kwarg is deprecated, and has been \"\n"
     ]
    },
    {
     "data": {
      "image/png": "[encoded data removed]",
      "text/plain": [
       "<Figure size 432x288 with 1 Axes>"
      ]
     },
     "metadata": {},
     "output_type": "display_data"
    }
   ],
   "source": [
    "# distribution plot for the numerical column of \"age\"\n",
    "g = sns.distplot(df['age'].dropna())\n",
    "plt.show()"
   ]
  },
  {
   "cell_type": "code",
   "execution_count": 10,
   "metadata": {
    "collapsed": false
   },
   "outputs": [
    {
     "name": "stderr",
     "output_type": "stream",
     "text": [
      "C:\\Users\\n9604014\\AppData\\Local\\Continuum\\Anaconda3\\lib\\site-packages\\seaborn\\categorical.py:1460: FutureWarning: remove_na is deprecated and is a private function. Do not use.\n",
      "  stat_data = remove_na(group_data)\n"
     ]
    },
    {
     "data": {
      "image/png": "[encoded data removed]",
      "text/plain": [
       "<Figure size 432x288 with 1 Axes>"
      ]
     },
     "metadata": {},
     "output_type": "display_data"
    }
   ],
   "source": [
    "# distribution plot for the categorical column of \"workclass\"\n",
    "g = sns.countplot(data = df, x = 'workclass')\n",
    "plt.show()"
   ]
  },
  {
   "cell_type": "code",
   "execution_count": 16,
   "metadata": {
    "collapsed": false
   },
   "outputs": [
    {
     "name": "stderr",
     "output_type": "stream",
     "text": [
      "C:\\Users\\n9604014\\AppData\\Local\\Continuum\\Anaconda3\\lib\\site-packages\\seaborn\\categorical.py:462: FutureWarning: remove_na is deprecated and is a private function. Do not use.\n",
      "  box_data = remove_na(group_data)\n"
     ]
    },
    {
     "data": {
      "image/png": "[encoded data removed]",
      "text/plain": [
       "<Figure size 432x288 with 1 Axes>"
      ]
     },
     "metadata": {},
     "output_type": "display_data"
    }
   ],
   "source": [
    "# distribution plot of Salary, grouped by workclass\n",
    "g = sns.boxplot(x='workclass', y='fnlwgt', data=df)\n",
    "plt.show()"
   ]
  },
  {
   "cell_type": "markdown",
   "metadata": {},
   "source": [
    "## 3. Correcting errors in data\n",
    "\n",
    "Perform the following operations and answer the following questions:\n",
    "1. By performing data exploration, grouping and plotting, what problems have you revealed with the dataset?\n",
    "2. Do you think **Address** column is useful for the predictive model? Why?\n",
    "3. Impute missing values in **Car** variable. What imputation method will you use, and why?\n",
    "4. Perform one hot encoding for **Type** and **Method** columns.\n",
    "5. What columns do you think is not required here? Drop them.\n",
    "6. What data preparation process can be performed for `Date` and `SellerG`?"
   ]
  },
  {
   "cell_type": "markdown",
   "metadata": {},
   "source": [
    "### Answer\n",
    "\n",
    "**[Question 1]** Firstly, pay attention to dataset information. There are missing values in **workclass, fnlwgt, education, education-num, marital-status, occupation, race,CouncilArea, Latitude, Longitude, RegionName, PropertyCount.** Ratio of missing values in these columns are different, thus the technique of choice for fixing them will be different too.\n",
    "\n",
    "You can choose different process to apply if you can back it up with valid reasons. For this exercise, we will apply the following techniques:\n",
    "1. **Dropping rows with missing values**, applied to **Distance, Postcode, CouncilArea, Regionname and Propertycount**. These columns have relatively low number of missing values, thus removing rows with missing values is a simple approach that will not significantly impact data available for analysis.\n",
    "2. **Imputation**, applied to **Bathroom** and **Car**. There are more missing values in these columns, however removing them completely will reduce amount of information significantly. We could also reasonably approximate these variables, making them suitable for imputation.\n",
    "3. **Flagging** for **Lattitude** and **Longtitude**. While the rate of missing values in these two columns are similar with **Bathroom** and **Car**, approximating location of houses is much harder. Therefore, creating new columns of **Latitude_nan** and **Longtitude_nan**, denoting presence of missing values in respective column, can be a suitable approach.\n",
    "4. **Drop columns**, for **Landsize, BuildingArea and YearBuilt**. All three columns have significant ratio of missing values, thus dropping them is necessary.\n",
    "\n",
    "**[Question 2]** Address column is very specific to each house. Building a model on specific addresses can result in an overfitting model, thus we should not include it in the analysis.\n",
    "\n",
    "**[Question 3]** **Car** is a interval variable. Both median and mean can be a valid imputations strategy.\n",
    "\n",
    "**[Question 4]** As follows.\n",
    "\n",
    "**[Question 5]** We have decided to drop **Address, Landsize, BuildingArea and YearBuilt**. Other columns that is not required will be **Price**, as the objective of this exercise is to simply predict whether the price is above median or not (binary classification). Predicting an interval variable like **Price** will be a regression task instead of classification.\n",
    "\n",
    "**[Question 6]** Looking at `Date` and `SellerG`, there are a number of techniques that can be applied. For date/time variables, most models cannot utilise raw data. Thus, commonly a date is preprocessed and represented in different format, for example week/month to understand whether houses are more expensive at certain time in the year. In regards to `SellerG`, the problem is the number of levels/unique values in the variable. There are ~330 unique sellers, with some of them only selling few houses. In addition, new sellers can emerge in future data very easily, thus training models to seller names can reduces robustness of the model. There are steps that can be taken to fix this (e.g. only including top N/big sellers), but for simplicity we will simply drop this variable.\n",
    "\n",
    "\n",
    "Code to perform all mentioned actions is as follow:"
   ]
  },
  {
   "cell_type": "code",
   "execution_count": 11,
   "metadata": {
    "collapsed": true
   },
   "outputs": [],
   "source": [
    "def preprocess_data(df):\n",
    "    # Q1.4 and Q6.2\n",
    "    df = df.drop(['Address', 'Landsize', 'BuildingArea', 'YearBuilt', 'Price', 'Bedroom2', 'SellerG'], axis=1)\n",
    "    \n",
    "    # Q1.1\n",
    "    cols_miss_drop =['Postcode', 'CouncilArea', 'Regionname', 'Propertycount']\n",
    "    mask = pd.isnull(df['Distance'])\n",
    "\n",
    "    for col in cols_miss_drop:\n",
    "        mask = mask | pd.isnull(df[col])\n",
    "\n",
    "    df = df[~mask]\n",
    "    \n",
    "    # Q1.2\n",
    "    df['Bathroom'].fillna(df['Bathroom'].mean(), inplace=True)\n",
    "    df['Car'].fillna(df['Car'].mean(), inplace=True)\n",
    "    \n",
    "    df['Latitude_nan'] = pd.isnull(df['Lattitude'])\n",
    "    df['Longtitude_nan'] = pd.isnull(df['Longtitude'])\n",
    "    df['Lattitude'].fillna(0, inplace=True)\n",
    "    df['Longtitude'].fillna(0, inplace=True)\n",
    "    \n",
    "    # Q6.1. Change date into weeks and months\n",
    "    df['Sales_week'] = pd.to_datetime(df['Date']).dt.week\n",
    "    df['Sales_month'] = pd.to_datetime(df['Date']).dt.month\n",
    "    df = df.drop(['Date'], axis=1)  # drop the date, not required anymore\n",
    "    \n",
    "    # Q4\n",
    "    df = pd.get_dummies(df)\n",
    "    \n",
    "    return df"
   ]
  },
  {
   "cell_type": "code",
   "execution_count": 12,
   "metadata": {
    "collapsed": false
   },
   "outputs": [
    {
     "name": "stdout",
     "output_type": "stream",
     "text": [
      "<class 'pandas.core.frame.DataFrame'>\n",
      "Int64Index: 24194 entries, 0 to 24196\n",
      "Columns: 402 entries, Rooms to Regionname_Western Victoria\n",
      "dtypes: bool(2), float64(7), int64(4), uint8(389)\n",
      "memory usage: 11.2 MB\n"
     ]
    }
   ],
   "source": [
    "df2 = preprocess_data(df)\n",
    "df2.info()"
   ]
  },
  {
   "cell_type": "markdown",
   "metadata": {},
   "source": [
    "The dataset has expanded into ~400 columns, mostly consisting of one-hot variables from `Suburb`."
   ]
  },
  {
   "cell_type": "markdown",
   "metadata": {},
   "source": [
    "# Answer\n",
    "\n",
    "When you are finished with all exercise questions, the sample answers are available in the following Github repository. Remember, please try the exercises first before viewing the answers.\n",
    "\n",
    "https://github.com/liehendi11/IFN645_answers"
   ]
  }
 ],
 "metadata": {
  "kernelspec": {
   "display_name": "Python [default]",
   "language": "python",
   "name": "python3"
  },
  "language_info": {
   "codemirror_mode": {
    "name": "ipython",
    "version": 3
   },
   "file_extension": ".py",
   "mimetype": "text/x-python",
   "name": "python",
   "nbconvert_exporter": "python",
   "pygments_lexer": "ipython3",
   "version": "3.5.5"
  }
 },
 "nbformat": 4,
 "nbformat_minor": 2
}
