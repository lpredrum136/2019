{
 "cells": [
  {
   "cell_type": "code",
   "execution_count": 1,
   "metadata": {},
   "outputs": [
    {
     "name": "stderr",
     "output_type": "stream",
     "text": [
      " * Running on http://127.0.0.1:5000/ (Press CTRL+C to quit)\n",
      "127.0.0.1 - - [03/May/2018 02:05:15] \"POST /predict HTTP/1.1\" 200 -\n"
     ]
    }
   ],
   "source": [
    "# a very simple Flask based web API for production prototype\n",
    "# run this cell to start the web server\n",
    "\n",
    "import flask\n",
    "import pandas as pd\n",
    "import numpy as np\n",
    "import dill\n",
    "import json\n",
    "\n",
    "from sklearn.pipeline import Pipeline, make_pipeline, FeatureUnion, make_union\n",
    "from sklearn.base import TransformerMixin, BaseEstimator\n",
    "\n",
    "from sklearn.preprocessing import StandardScaler, Imputer  # import imputer and scaler\n",
    "from sklearn.linear_model import LogisticRegression\n",
    "from sklearn.model_selection import train_test_split\n",
    "from sklearn.metrics import classification_report, accuracy_score\n",
    "from sklearn.model_selection import GridSearchCV\n",
    "\n",
    "from dm_tools import data_prep\n",
    "\n",
    "required_columns = ['GiftCnt36', 'GiftCntAll',\n",
    "                    'GiftCntCard36', 'GiftCntCardAll', 'GiftAvgLast',\n",
    "                    'GiftAvg36', 'GiftAvgAll', 'GiftAvgCard36', 'GiftTimeLast',\n",
    "                    'GiftTimeFirst', 'PromCnt12', 'PromCnt36', 'PromCntAll',\n",
    "                    'PromCntCard12', 'PromCntCard36', 'PromCntCardAll', 'StatusCat96NK',\n",
    "                    'StatusCatStarAll', 'DemCluster', 'DemAge', 'DemGender', 'DemHomeOwner',\n",
    "                    'DemMedHomeValue', 'DemPctVeterans', 'DemMedIncome']\n",
    "\n",
    "app = flask.Flask(__name__)\n",
    "dill.dill._reverse_typemap['ClassType'] = type\n",
    "dilled_model = dill.load(file=open('model.pkl', 'rb'))\n",
    "\n",
    "@app.route('/predict', methods = ['POST'])\n",
    "def predict():\n",
    "    input_data = flask.request.json\n",
    "    df = pd.read_json(input_data)\n",
    "    \n",
    "    # verify if the received dataset is complete\n",
    "    for col in required_columns:\n",
    "        if col not in df.columns:\n",
    "            return 'Incomplete columns', 400  # return a bad request\n",
    "    \n",
    "    prediction_values = dilled_model.predict(df)\n",
    "    return json.dumps(prediction_values.tolist()), 200\n",
    "\n",
    "if __name__ == '__main__':\n",
    "    app.run()"
   ]
  },
  {
   "cell_type": "code",
   "execution_count": null,
   "metadata": {},
   "outputs": [],
   "source": []
  }
 ],
 "metadata": {
  "kernelspec": {
   "display_name": "Python 3",
   "language": "python",
   "name": "python3"
  },
  "language_info": {
   "codemirror_mode": {
    "name": "ipython",
    "version": 3
   },
   "file_extension": ".py",
   "mimetype": "text/x-python",
   "name": "python",
   "nbconvert_exporter": "python",
   "pygments_lexer": "ipython3",
   "version": "3.6.1"
  }
 },
 "nbformat": 4,
 "nbformat_minor": 2
}
